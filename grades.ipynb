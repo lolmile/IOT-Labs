{
 "cells": [
  {
   "cell_type": "code",
   "execution_count": 5,
   "id": "2ac092fb-ee7e-4a97-98cc-dd8c02580bf3",
   "metadata": {},
   "outputs": [
    {
     "name": "stdin",
     "output_type": "stream",
     "text": [
      "Enter a grade percentage (ex: 85 for 85%):  111\n"
     ]
    },
    {
     "name": "stdout",
     "output_type": "stream",
     "text": [
      "Wrong grade entered, can not be higher than 100%\n"
     ]
    }
   ],
   "source": [
    "#Emile Boulet     2023-02-09\n",
    "#This code will convert the percent given into standardized grades\n",
    "\n",
    "grade = float(input(\"Enter a grade percentage (ex: 85 for 85%): \"))\n",
    "\n",
    "if grade >= 80 and grade < 100:\n",
    "    print(\"A\")\n",
    "elif 80 > grade >= 60:\n",
    "    print(\"B\")\n",
    "elif 60 > grade >= 50:\n",
    "    print(\"C\")\n",
    "elif 50 > grade >= 40:\n",
    "    print(\"D\")\n",
    "elif grade > 100:\n",
    "    print(\"Wrong grade entered, can not be higher than 100%\")\n",
    "elif grade < 0:\n",
    "    print(\"Wrong grade entered, can not be lower than 0%\")\n"
   ]
  },
  {
   "cell_type": "code",
   "execution_count": null,
   "id": "f607872a-df84-457b-b7d6-3b79928f93fd",
   "metadata": {},
   "outputs": [],
   "source": []
  }
 ],
 "metadata": {
  "kernelspec": {
   "display_name": "Python 3 (ipykernel)",
   "language": "python",
   "name": "python3"
  },
  "language_info": {
   "codemirror_mode": {
    "name": "ipython",
    "version": 3
   },
   "file_extension": ".py",
   "mimetype": "text/x-python",
   "name": "python",
   "nbconvert_exporter": "python",
   "pygments_lexer": "ipython3",
   "version": "3.11.1"
  }
 },
 "nbformat": 4,
 "nbformat_minor": 5
}
