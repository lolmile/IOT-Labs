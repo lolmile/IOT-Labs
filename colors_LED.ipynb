{
 "cells": [
  {
   "cell_type": "code",
   "execution_count": 5,
   "id": "eac45962-eda5-42b7-b54e-7410d145b209",
   "metadata": {},
   "outputs": [],
   "source": [
    "import random\n",
    "\n",
    "ranges = (-30, -10, 10, 30)"
   ]
  },
  {
   "cell_type": "code",
   "execution_count": 19,
   "id": "1dbf40c4-d344-431a-aa30-e830b511d19c",
   "metadata": {},
   "outputs": [
    {
     "name": "stdout",
     "output_type": "stream",
     "text": [
      "1 : -6 Yellow\n",
      "2 : 26 Orange\n",
      "3 : 19 Orange\n",
      "4 : -20 Green\n",
      "5 : -11 Green\n",
      "6 : -31 Blue\n",
      "7 : -46 Blue\n",
      "8 : -4 Yellow\n",
      "9 : 27 Orange\n",
      "10 : 45 Red\n"
     ]
    }
   ],
   "source": [
    "for i in range(1, 11):\n",
    "    randTemp = random.randint(-50,50)\n",
    "    \n",
    "    if (randTemp < ranges[0]):\n",
    "        print(i, \":\", randTemp, \"Blue\")\n",
    "        \n",
    "    elif (randTemp >= ranges[0] and randTemp < ranges[1]):\n",
    "        print(i, \":\", randTemp, \"Green\")\n",
    "        \n",
    "    elif (randTemp >= ranges[1] and randTemp < ranges[2]):\n",
    "        print(i, \":\", randTemp, \"Yellow\")\n",
    "    \n",
    "    elif (randTemp >= ranges[2] and randTemp <= ranges[3]):\n",
    "        print(i, \":\", randTemp, \"Orange\")\n",
    "        \n",
    "    elif (randTemp > ranges[3]):\n",
    "        print(i, \":\", randTemp, \"Red\")\n",
    "        "
   ]
  },
  {
   "cell_type": "code",
   "execution_count": null,
   "id": "8bd1d36f-0323-4893-9dbf-bbf9c30948b9",
   "metadata": {},
   "outputs": [],
   "source": []
  }
 ],
 "metadata": {
  "kernelspec": {
   "display_name": "Python 3 (ipykernel)",
   "language": "python",
   "name": "python3"
  },
  "language_info": {
   "codemirror_mode": {
    "name": "ipython",
    "version": 3
   },
   "file_extension": ".py",
   "mimetype": "text/x-python",
   "name": "python",
   "nbconvert_exporter": "python",
   "pygments_lexer": "ipython3",
   "version": "3.11.1"
  }
 },
 "nbformat": 4,
 "nbformat_minor": 5
}
