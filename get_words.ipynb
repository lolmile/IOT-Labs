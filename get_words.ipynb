{
 "cells": [
  {
   "cell_type": "code",
   "execution_count": 15,
   "id": "ec292300-eeaf-4488-a723-58fbfe1bc11b",
   "metadata": {},
   "outputs": [
    {
     "name": "stdin",
     "output_type": "stream",
     "text": [
      "Enter a word:  Emile\n"
     ]
    },
    {
     "name": "stdout",
     "output_type": "stream",
     "text": [
      "New value registered.\n"
     ]
    },
    {
     "name": "stdin",
     "output_type": "stream",
     "text": [
      "Enter a word:  awdasdw\n"
     ]
    },
    {
     "name": "stdout",
     "output_type": "stream",
     "text": [
      "New value registered.\n"
     ]
    },
    {
     "name": "stdin",
     "output_type": "stream",
     "text": [
      "Enter a word:  wadadw\n"
     ]
    },
    {
     "name": "stdout",
     "output_type": "stream",
     "text": [
      "New value registered.\n"
     ]
    },
    {
     "name": "stdin",
     "output_type": "stream",
     "text": [
      "Enter a word:  show\n"
     ]
    },
    {
     "name": "stdout",
     "output_type": "stream",
     "text": [
      "['Emile', 'awdasdw', 'wadadw']\n"
     ]
    },
    {
     "name": "stdin",
     "output_type": "stream",
     "text": [
      "Do you want to continue? (y/n)\n",
      " n\n"
     ]
    }
   ],
   "source": [
    "storage = []\n",
    "\n",
    "try:\n",
    "    while True:\n",
    "        c = input(\"Enter a word: \")\n",
    "        validateString = c.isalpha()\n",
    "\n",
    "        if validateString:\n",
    "            if c == \"show\":\n",
    "                print(storage)\n",
    "                e = input(\"Do you want to continue? (y/n)\\n\")\n",
    "                if e.lower() == \"y\":\n",
    "                    pass\n",
    "                elif e.lower() == \"n\":\n",
    "                    break\n",
    "                else:\n",
    "                    print(\"Enter valid input\")\n",
    "            elif c not in storage:\n",
    "                storage.append(c)\n",
    "                print(\"New value registered.\")\n",
    "            else:\n",
    "                print(\"The value already exists\")\n",
    "        else:\n",
    "            print(\"Invalid input. Please enter a word containing only letters.\")\n",
    "except KeyboardInterrupt:\n",
    "    print(\"Program stopped by user\") "
   ]
  },
  {
   "cell_type": "code",
   "execution_count": null,
   "id": "5cc34bec-0b33-48f9-ae77-5994132fb27d",
   "metadata": {},
   "outputs": [],
   "source": []
  }
 ],
 "metadata": {
  "kernelspec": {
   "display_name": "Python 3 (ipykernel)",
   "language": "python",
   "name": "python3"
  },
  "language_info": {
   "codemirror_mode": {
    "name": "ipython",
    "version": 3
   },
   "file_extension": ".py",
   "mimetype": "text/x-python",
   "name": "python",
   "nbconvert_exporter": "python",
   "pygments_lexer": "ipython3",
   "version": "3.11.1"
  }
 },
 "nbformat": 4,
 "nbformat_minor": 5
}
