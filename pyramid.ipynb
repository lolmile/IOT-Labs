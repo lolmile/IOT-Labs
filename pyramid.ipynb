{
 "cells": [
  {
   "cell_type": "code",
   "execution_count": 15,
   "id": "856dcd3c-d771-4f5f-8a20-bac05800093a",
   "metadata": {},
   "outputs": [
    {
     "name": "stdin",
     "output_type": "stream",
     "text": [
      "Enter the number of lines to draw:  4\n",
      "Enter the character to use:  \n"
     ]
    },
    {
     "name": "stdout",
     "output_type": "stream",
     "text": [
      "   *\n",
      "  ***\n",
      " *****\n",
      "*******\n"
     ]
    }
   ],
   "source": [
    "#Emile Boulet    2023-02-10\n",
    "#This code will make a pyramid out of the string given and with the amount of lines wanted.\n",
    "\n",
    "def pyramid(n, c):\n",
    "    for i in range(1, n+1):\n",
    "        spaces = \" \" * (n-i)\n",
    "        stars = c * (2*i-1)\n",
    "        print(spaces + stars)\n",
    "\n",
    "n = int(input(\"Enter the number of lines to draw: \"))\n",
    "c = input(\"Enter the character to use: \")\n",
    "\n",
    "pyramid(n, c='*')"
   ]
  },
  {
   "cell_type": "code",
   "execution_count": null,
   "id": "9743bc6b-246b-40ff-a93b-0629f47d0a37",
   "metadata": {},
   "outputs": [],
   "source": []
  }
 ],
 "metadata": {
  "kernelspec": {
   "display_name": "Python 3 (ipykernel)",
   "language": "python",
   "name": "python3"
  },
  "language_info": {
   "codemirror_mode": {
    "name": "ipython",
    "version": 3
   },
   "file_extension": ".py",
   "mimetype": "text/x-python",
   "name": "python",
   "nbconvert_exporter": "python",
   "pygments_lexer": "ipython3",
   "version": "3.11.1"
  }
 },
 "nbformat": 4,
 "nbformat_minor": 5
}
