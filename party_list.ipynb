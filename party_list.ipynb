{
 "cells": [
  {
   "cell_type": "code",
   "execution_count": 11,
   "id": "1ebdf73e-a9ce-44a4-93d9-196a141f153b",
   "metadata": {},
   "outputs": [
    {
     "name": "stdin",
     "output_type": "stream",
     "text": [
      "Enter guest name (press Enter to stop):  Emile\n",
      "RSVP (Yes/No):  y\n"
     ]
    },
    {
     "name": "stdout",
     "output_type": "stream",
     "text": [
      "Invalid RSVP input. Only Yes or No are allowed, re-enter a name Input.\n"
     ]
    },
    {
     "name": "stdin",
     "output_type": "stream",
     "text": [
      "Enter guest name (press Enter to stop):  Emile\n",
      "RSVP (Yes/No):  Yes\n",
      "Enter guest name (press Enter to stop):  Test\n",
      "RSVP (Yes/No):  No\n",
      "Enter guest name (press Enter to stop):  \n"
     ]
    },
    {
     "name": "stdout",
     "output_type": "stream",
     "text": [
      "Number of people invited: 2\n",
      "Number of guests confirmed: 1\n",
      "Number of guests declined: 1\n",
      "Guest list:\n",
      "Emile - Yes\n",
      "Test - No\n"
     ]
    },
    {
     "name": "stdin",
     "output_type": "stream",
     "text": [
      "Enter name to modify (press Enter to end):  Test\n",
      "Is Test still coming? (Y/N) Y\n",
      "Do you want to update details? (Y/N) N\n"
     ]
    },
    {
     "name": "stdout",
     "output_type": "stream",
     "text": [
      "Guest list:\n",
      "Emile - Yes\n",
      "Test - No\n"
     ]
    },
    {
     "name": "stdin",
     "output_type": "stream",
     "text": [
      "Enter name to modify (press Enter to end):  Test\n",
      "Is Test still coming? (Y/N) Y\n",
      "Do you want to update details? (Y/N) Y\n",
      "Enter new confirmation status (Yes/No):  yes\n"
     ]
    },
    {
     "name": "stdout",
     "output_type": "stream",
     "text": [
      "Guest list:\n",
      "Emile - Yes\n",
      "Test - Yes\n"
     ]
    },
    {
     "name": "stdin",
     "output_type": "stream",
     "text": [
      "Enter name to modify (press Enter to end):  Emile\n",
      "Is Emile still coming? (Y/N) Y\n",
      "Do you want to update details? (Y/N) Y\n",
      "Enter new confirmation status (Yes/No):  Yes\n"
     ]
    },
    {
     "name": "stdout",
     "output_type": "stream",
     "text": [
      "Guest list:\n",
      "Emile - Yes\n",
      "Test - Yes\n"
     ]
    },
    {
     "name": "stdin",
     "output_type": "stream",
     "text": [
      "Enter name to modify (press Enter to end):  Emile\n",
      "Is Emile still coming? (Y/N) N\n"
     ]
    },
    {
     "name": "stdout",
     "output_type": "stream",
     "text": [
      "Guest list:\n",
      "Test - Yes\n"
     ]
    },
    {
     "name": "stdin",
     "output_type": "stream",
     "text": [
      "Enter name to modify (press Enter to end):  Test\n",
      "Is Test still coming? (Y/N) Y\n",
      "Do you want to update details? (Y/N) Y\n",
      "Enter new confirmation status (Yes/No):  No\n"
     ]
    },
    {
     "name": "stdout",
     "output_type": "stream",
     "text": [
      "Guest list:\n",
      "Test - No\n"
     ]
    },
    {
     "name": "stdin",
     "output_type": "stream",
     "text": [
      "Enter name to modify (press Enter to end):  \n"
     ]
    },
    {
     "name": "stdout",
     "output_type": "stream",
     "text": [
      "Final guest list:\n",
      "Test - No\n"
     ]
    }
   ],
   "source": [
    "import re\n",
    "\n",
    "# Define a regular expression pattern to match valid first names\n",
    "name_pattern = re.compile(r\"^[a-zA-Z]+$\")\n",
    "\n",
    "# Initialize an empty dictionary to store the names and their RSVP status\n",
    "guest_list = {}\n",
    "\n",
    "# Loop to get the names and confirmation status of the guests\n",
    "while True:\n",
    "    name = input(\"Enter guest name (press Enter to stop): \")\n",
    "    if not name:\n",
    "        break\n",
    "    # Validate the name input using the name pattern\n",
    "    if not name_pattern.match(name):\n",
    "        print(\"Invalid name input. Only letters are allowed.\")\n",
    "        continue\n",
    "    rsvp = input(\"RSVP (Yes/No): \")\n",
    "    # Convert the response to lowercase for easier comparison\n",
    "    rsvp = rsvp.lower()\n",
    "    if rsvp == \"yes\" or rsvp == \"no\":\n",
    "        guest_list[name] = rsvp == \"yes\"\n",
    "    else:\n",
    "        print(\"Invalid RSVP input. Only Yes or No are allowed, re-enter a name Input.\")\n",
    "\n",
    "# Display the number of people invited\n",
    "num_invited = len(guest_list)\n",
    "print(\"Number of people invited:\", num_invited)\n",
    "\n",
    "# Count the number of guests who confirmed and who declined\n",
    "num_confirmed = sum(guest_list.values())\n",
    "num_declined = num_invited - num_confirmed\n",
    "print(\"Number of guests confirmed:\", num_confirmed)\n",
    "print(\"Number of guests declined:\", num_declined)\n",
    "\n",
    "# Display the list of guests and their RSVP status, and allow for modification\n",
    "while True:\n",
    "    print(\"Guest list:\")\n",
    "    for name, rsvp in guest_list.items():\n",
    "        print(name, \"-\", \"Yes\" if rsvp else \"No\")\n",
    "\n",
    "    # Ask for the name of the guest to modify, or end the program\n",
    "    name_to_modify = input(\"Enter name to modify (press Enter to end): \")\n",
    "    if not name_to_modify:\n",
    "        break\n",
    "    # Validate the name input using the name pattern\n",
    "    if not name_pattern.match(name_to_modify):\n",
    "        print(\"Invalid name input. Only letters are allowed.\")\n",
    "        continue\n",
    "\n",
    "    # Ask for the new RSVP status of the guest\n",
    "    if name_to_modify in guest_list:\n",
    "        new_rsvp = input(\"Is {} still coming? (Y/N)\".format(name_to_modify))\n",
    "        # Convert the response to lowercase for easier comparison\n",
    "        new_rsvp = new_rsvp.lower()\n",
    "        if new_rsvp == \"n\":\n",
    "            del guest_list[name_to_modify]\n",
    "        elif new_rsvp == \"y\":\n",
    "            update_details = input(\"Do you want to update details? (Y/N)\")\n",
    "            update_details = update_details.lower()\n",
    "            if update_details == \"y\":\n",
    "                new_confirmation = input(\"Enter new confirmation status (Yes/No): \")\n",
    "                new_confirmation = new_confirmation.lower()\n",
    "                if new_confirmation == \"yes\" or new_confirmation == \"no\":\n",
    "                    guest_list[name_to_modify] = new_confirmation == \"yes\"\n",
    "                else:\n",
    "                    print(\"Invalid confirmation input. Only Yes or No are allowed.\")\n",
    "    else:\n",
    "        print(\"{} is not in the guest list.\".format(name_to_modify))\n",
    "\n",
    "# Display the final list of guests\n",
    "print(\"Final guest list:\")\n",
    "for name, rsvp in guest_list.items():\n",
    "    print(name, \"-\", \"Yes\" if rsvp else \"No\")\n"
   ]
  },
  {
   "cell_type": "code",
   "execution_count": null,
   "id": "71bc8d29-7711-407b-955b-bcde4f69ab13",
   "metadata": {},
   "outputs": [],
   "source": []
  }
 ],
 "metadata": {
  "kernelspec": {
   "display_name": "Python 3 (ipykernel)",
   "language": "python",
   "name": "python3"
  },
  "language_info": {
   "codemirror_mode": {
    "name": "ipython",
    "version": 3
   },
   "file_extension": ".py",
   "mimetype": "text/x-python",
   "name": "python",
   "nbconvert_exporter": "python",
   "pygments_lexer": "ipython3",
   "version": "3.11.1"
  }
 },
 "nbformat": 4,
 "nbformat_minor": 5
}
