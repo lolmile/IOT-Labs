{
 "cells": [
  {
   "cell_type": "code",
   "execution_count": 2,
   "id": "85704198-5d48-4441-b108-8dfaca570622",
   "metadata": {},
   "outputs": [
    {
     "name": "stdin",
     "output_type": "stream",
     "text": [
      "Enter the value of n:  3\n"
     ]
    },
    {
     "name": "stdout",
     "output_type": "stream",
     "text": [
      "The approximation of e is: 2.6666666666666665\n"
     ]
    }
   ],
   "source": [
    "#Emile Boulet    2023-02-10\n",
    "#This code gives by default the approximate value of the mathematical constant e.\n",
    "\n",
    "def factorial(n):\n",
    "    if n == 0:\n",
    "        return 1\n",
    "    else:\n",
    "        return n * factorial(n-1)\n",
    "\n",
    "def value_e(n):\n",
    "    e = 0\n",
    "    for i in range(n+1):\n",
    "        e += 1/factorial(i)\n",
    "    return e\n",
    "\n",
    "n = int(input(\"Enter the value of n: \"))\n",
    "result = value_e(n)\n",
    "print(\"The approximation of e is:\", result)"
   ]
  },
  {
   "cell_type": "code",
   "execution_count": null,
   "id": "641c3aa0-96c9-488f-8b3c-e36e3ed30605",
   "metadata": {},
   "outputs": [],
   "source": []
  }
 ],
 "metadata": {
  "kernelspec": {
   "display_name": "Python 3 (ipykernel)",
   "language": "python",
   "name": "python3"
  },
  "language_info": {
   "codemirror_mode": {
    "name": "ipython",
    "version": 3
   },
   "file_extension": ".py",
   "mimetype": "text/x-python",
   "name": "python",
   "nbconvert_exporter": "python",
   "pygments_lexer": "ipython3",
   "version": "3.11.1"
  }
 },
 "nbformat": 4,
 "nbformat_minor": 5
}
