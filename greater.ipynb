{
 "cells": [
  {
   "cell_type": "code",
   "execution_count": 13,
   "id": "67f81d00-0f21-4d24-9be6-8716b292c72b",
   "metadata": {},
   "outputs": [
    {
     "name": "stdin",
     "output_type": "stream",
     "text": [
      "Enter a number:  3\n",
      "Enter a number:  1\n",
      "Enter a number:  4\n"
     ]
    },
    {
     "name": "stdout",
     "output_type": "stream",
     "text": [
      "The biggest Number is : 4\n"
     ]
    }
   ],
   "source": [
    "#Emile Boulet     2023-02-09\n",
    "#This code will find the higest number out of all three input numbers.\n",
    "\n",
    "number1 = int(input(\"Enter a number: \"))\n",
    "number2 = int(input(\"Enter a number: \"))\n",
    "number3 = int(input(\"Enter a number: \"))\n",
    "\n",
    "if number2 > number1 and number2 > number3 :\n",
    "    print(\"The biggest Number is :\", number2)\n",
    "elif number3 > number2 and number3 > number1 :\n",
    "    print(\"The biggest Number is :\", number3)\n",
    "else:\n",
    "    print(\"The biggest number is :\", number1)"
   ]
  },
  {
   "cell_type": "code",
   "execution_count": null,
   "id": "87c7fb2e-2dbe-4498-8339-775493d4d5f3",
   "metadata": {},
   "outputs": [],
   "source": []
  }
 ],
 "metadata": {
  "kernelspec": {
   "display_name": "Python 3 (ipykernel)",
   "language": "python",
   "name": "python3"
  },
  "language_info": {
   "codemirror_mode": {
    "name": "ipython",
    "version": 3
   },
   "file_extension": ".py",
   "mimetype": "text/x-python",
   "name": "python",
   "nbconvert_exporter": "python",
   "pygments_lexer": "ipython3",
   "version": "3.11.1"
  }
 },
 "nbformat": 4,
 "nbformat_minor": 5
}
