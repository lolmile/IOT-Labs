{
 "cells": [
  {
   "cell_type": "code",
   "execution_count": 4,
   "id": "7f95f5ca-d41c-41a8-afa3-9dc58145ef9f",
   "metadata": {},
   "outputs": [
    {
     "name": "stdin",
     "output_type": "stream",
     "text": [
      "Enter the number of hours worked:  50\n",
      "Enter the unit price of an hour:  32\n"
     ]
    },
    {
     "name": "stdout",
     "output_type": "stream",
     "text": [
      "The total pay is $1944.00\n"
     ]
    }
   ],
   "source": [
    "#Emile Boulet     2023-02-09\n",
    "#This code will calcultate different pays with the amount of overtime done and the unit price per hour.\n",
    "\n",
    "hours = float(input(\"Enter the number of hours worked: \"))\n",
    "rate = float(input(\"Enter the unit price of an hour: \"))\n",
    "\n",
    "if hours <= 39 :\n",
    "    pay = hours * rate\n",
    "elif hours <= 44 :\n",
    "    pay = 39 * rate + (hours - 39) * (rate * 1.5)\n",
    "elif hours <= 49 :\n",
    "    pay = 39 * rate + 5 * rate * 1.5 + (hours - 44) * rate * 2.25\n",
    "else:\n",
    "    pay = 39 * rate + 5 * rate * 1.5 + 5 * rate * 2.25 + (hours - 49) * rate * 3\n",
    "    \n",
    "print(\"The total pay is $%.2f\" % pay)"
   ]
  },
  {
   "cell_type": "code",
   "execution_count": null,
   "id": "b24c70e4-73ce-4ada-a351-baea207a8ac1",
   "metadata": {},
   "outputs": [],
   "source": []
  }
 ],
 "metadata": {
  "kernelspec": {
   "display_name": "Python 3 (ipykernel)",
   "language": "python",
   "name": "python3"
  },
  "language_info": {
   "codemirror_mode": {
    "name": "ipython",
    "version": 3
   },
   "file_extension": ".py",
   "mimetype": "text/x-python",
   "name": "python",
   "nbconvert_exporter": "python",
   "pygments_lexer": "ipython3",
   "version": "3.11.1"
  }
 },
 "nbformat": 4,
 "nbformat_minor": 5
}
